{
 "cells": [
  {
   "cell_type": "markdown",
   "metadata": {},
   "source": [
    "# Muhammad Rikhza Maulana - 2502398571"
   ]
  },
  {
   "cell_type": "code",
   "execution_count": 182,
   "metadata": {},
   "outputs": [],
   "source": [
    "from sklearn.model_selection import train_test_split\n",
    "from sklearn.preprocessing import StandardScaler\n",
    "from sklearn import svm\n",
    "from sklearn.metrics import classification_report, accuracy_score\n",
    "import pandas as pd"
   ]
  },
  {
   "cell_type": "markdown",
   "metadata": {},
   "source": [
    "Load Dataset"
   ]
  },
  {
   "cell_type": "code",
   "execution_count": 183,
   "metadata": {},
   "outputs": [
    {
     "data": {
      "text/html": [
       "<div>\n",
       "<style scoped>\n",
       "    .dataframe tbody tr th:only-of-type {\n",
       "        vertical-align: middle;\n",
       "    }\n",
       "\n",
       "    .dataframe tbody tr th {\n",
       "        vertical-align: top;\n",
       "    }\n",
       "\n",
       "    .dataframe thead th {\n",
       "        text-align: right;\n",
       "    }\n",
       "</style>\n",
       "<table border=\"1\" class=\"dataframe\">\n",
       "  <thead>\n",
       "    <tr style=\"text-align: right;\">\n",
       "      <th></th>\n",
       "      <th>gmat</th>\n",
       "      <th>gpa</th>\n",
       "      <th>work_experience</th>\n",
       "      <th>admitted</th>\n",
       "    </tr>\n",
       "  </thead>\n",
       "  <tbody>\n",
       "    <tr>\n",
       "      <th>0</th>\n",
       "      <td>780</td>\n",
       "      <td>4.0</td>\n",
       "      <td>3</td>\n",
       "      <td>1</td>\n",
       "    </tr>\n",
       "    <tr>\n",
       "      <th>1</th>\n",
       "      <td>750</td>\n",
       "      <td>3.9</td>\n",
       "      <td>4</td>\n",
       "      <td>1</td>\n",
       "    </tr>\n",
       "    <tr>\n",
       "      <th>2</th>\n",
       "      <td>690</td>\n",
       "      <td>3.3</td>\n",
       "      <td>3</td>\n",
       "      <td>0</td>\n",
       "    </tr>\n",
       "    <tr>\n",
       "      <th>3</th>\n",
       "      <td>710</td>\n",
       "      <td>3.7</td>\n",
       "      <td>5</td>\n",
       "      <td>1</td>\n",
       "    </tr>\n",
       "    <tr>\n",
       "      <th>4</th>\n",
       "      <td>680</td>\n",
       "      <td>3.9</td>\n",
       "      <td>4</td>\n",
       "      <td>0</td>\n",
       "    </tr>\n",
       "  </tbody>\n",
       "</table>\n",
       "</div>"
      ],
      "text/plain": [
       "   gmat  gpa  work_experience  admitted\n",
       "0   780  4.0                3         1\n",
       "1   750  3.9                4         1\n",
       "2   690  3.3                3         0\n",
       "3   710  3.7                5         1\n",
       "4   680  3.9                4         0"
      ]
     },
     "execution_count": 183,
     "metadata": {},
     "output_type": "execute_result"
    }
   ],
   "source": [
    "data = pd.read_csv('table_2.csv')\n",
    "\n",
    "# Display the first few rows of the dataframe\n",
    "data.head()"
   ]
  },
  {
   "cell_type": "markdown",
   "metadata": {},
   "source": [
    "Data for classification predict"
   ]
  },
  {
   "cell_type": "code",
   "execution_count": 184,
   "metadata": {},
   "outputs": [],
   "source": [
    "# New data for prediction\n",
    "new_data = pd.DataFrame({\n",
    "    'gmat': [590, 740, 680, 610, 710],\n",
    "    'gpa': [2.0, 3.7, 3.3, 2.3, 3.0],\n",
    "    'work_experience': [3, 4, 6, 1, 5]\n",
    "})\n"
   ]
  },
  {
   "cell_type": "markdown",
   "metadata": {},
   "source": [
    "Split data"
   ]
  },
  {
   "cell_type": "code",
   "execution_count": 185,
   "metadata": {},
   "outputs": [],
   "source": [
    "# Separate features and target variable\n",
    "X = data[['gmat', 'gpa', 'work_experience']]\n",
    "y = data['admitted']"
   ]
  },
  {
   "cell_type": "code",
   "execution_count": 186,
   "metadata": {},
   "outputs": [],
   "source": [
    "# Standardize the features\n",
    "scaler = StandardScaler()\n",
    "X_scaled = scaler.fit_transform(X)\n",
    "\n",
    "# Standardize the new data with the same scaler used for the original data\n",
    "new_data_scaled = scaler.transform(new_data)"
   ]
  },
  {
   "cell_type": "code",
   "execution_count": 187,
   "metadata": {},
   "outputs": [],
   "source": [
    "# Split the data - 70% for training and 30% for testing\n",
    "X_train, X_test, y_train, y_test = train_test_split(X_scaled, y, test_size=0.3, random_state=42)"
   ]
  },
  {
   "cell_type": "markdown",
   "metadata": {},
   "source": [
    "### SVM"
   ]
  },
  {
   "cell_type": "code",
   "execution_count": 188,
   "metadata": {},
   "outputs": [],
   "source": [
    "# Create SVM classifier\n",
    "clf = svm.SVC(kernel='linear')  # Linear kernel is chosen for simplicity\n",
    "# Train the classifier\n",
    "clf.fit(X_train, y_train)\n",
    "# Predict the labels for the test set\n",
    "y_pred_svm = clf.predict(X_test)"
   ]
  },
  {
   "cell_type": "code",
   "execution_count": 189,
   "metadata": {},
   "outputs": [
    {
     "name": "stdout",
     "output_type": "stream",
     "text": [
      "Accuracy:  0.9166666666666666\n",
      "class_report:                precision    recall  f1-score   support\n",
      "\n",
      "           0       1.00      0.88      0.93         8\n",
      "           1       0.80      1.00      0.89         4\n",
      "\n",
      "    accuracy                           0.92        12\n",
      "   macro avg       0.90      0.94      0.91        12\n",
      "weighted avg       0.93      0.92      0.92        12\n",
      "\n"
     ]
    }
   ],
   "source": [
    "# Evaluate the classifier\n",
    "accuracy = accuracy_score(y_test, y_pred_svm)\n",
    "class_report = classification_report(y_test, y_pred_svm)\n",
    "\n",
    "print(\"Accuracy: \", accuracy)\n",
    "print(\"class_report: \", class_report)"
   ]
  },
  {
   "cell_type": "code",
   "execution_count": 190,
   "metadata": {},
   "outputs": [
    {
     "data": {
      "text/plain": [
       "[0, 1, 1, 0, 1]"
      ]
     },
     "execution_count": 190,
     "metadata": {},
     "output_type": "execute_result"
    }
   ],
   "source": [
    "# Predict the 'admitted' status for the new data\n",
    "predictions = clf.predict(new_data_scaled)\n",
    "predictions.tolist()\n"
   ]
  },
  {
   "cell_type": "markdown",
   "metadata": {},
   "source": [
    "### Logistic Regression"
   ]
  },
  {
   "cell_type": "code",
   "execution_count": 191,
   "metadata": {},
   "outputs": [
    {
     "name": "stdout",
     "output_type": "stream",
     "text": [
      "Accuracy:  0.9166666666666666\n",
      "class_report:                precision    recall  f1-score   support\n",
      "\n",
      "           0       1.00      0.88      0.93         8\n",
      "           1       0.80      1.00      0.89         4\n",
      "\n",
      "    accuracy                           0.92        12\n",
      "   macro avg       0.90      0.94      0.91        12\n",
      "weighted avg       0.93      0.92      0.92        12\n",
      "\n"
     ]
    }
   ],
   "source": [
    "from sklearn.linear_model import LogisticRegression\n",
    "\n",
    "# Create Logistic Regression classifier\n",
    "log_reg = LogisticRegression()\n",
    "\n",
    "# Train the classifier on the training data\n",
    "log_reg.fit(X_train, y_train)\n",
    "\n",
    "# Predict the labels for the test set\n",
    "y_pred_log_reg = log_reg.predict(X_test)\n",
    "\n",
    "# Evaluate the classifier\n",
    "accuracy_log_reg = accuracy_score(y_test, y_pred_log_reg)\n",
    "class_report_log_reg = classification_report(y_test, y_pred_log_reg)\n",
    "\n",
    "print(\"Accuracy: \", accuracy_log_reg)\n",
    "print(\"class_report: \", class_report_log_reg)"
   ]
  },
  {
   "cell_type": "code",
   "execution_count": 192,
   "metadata": {},
   "outputs": [
    {
     "data": {
      "text/plain": [
       "[0, 1, 1, 0, 1]"
      ]
     },
     "execution_count": 192,
     "metadata": {},
     "output_type": "execute_result"
    }
   ],
   "source": [
    "predictions_log_reg = log_reg.predict(new_data_scaled)\n",
    "predictions_log_reg.tolist()"
   ]
  },
  {
   "cell_type": "markdown",
   "metadata": {},
   "source": [
    "### Naive Bayes"
   ]
  },
  {
   "cell_type": "code",
   "execution_count": 193,
   "metadata": {},
   "outputs": [
    {
     "name": "stdout",
     "output_type": "stream",
     "text": [
      "Accuracy:  0.9166666666666666\n",
      "class_report:                precision    recall  f1-score   support\n",
      "\n",
      "           0       1.00      0.88      0.93         8\n",
      "           1       0.80      1.00      0.89         4\n",
      "\n",
      "    accuracy                           0.92        12\n",
      "   macro avg       0.90      0.94      0.91        12\n",
      "weighted avg       0.93      0.92      0.92        12\n",
      "\n"
     ]
    }
   ],
   "source": [
    "from sklearn.naive_bayes import GaussianNB\n",
    "from sklearn.preprocessing import MinMaxScaler\n",
    "\n",
    "# Create a MinMaxScaler to scale features to the [0, 1] range\n",
    "min_max_scaler = MinMaxScaler()\n",
    "X_minmax = min_max_scaler.fit_transform(X)\n",
    "\n",
    "# Split the data - 70% for training and 30% for testing using the min-max scaled data\n",
    "X_train_minmax, X_test_minmax, y_train_minmax, y_test_minmax = train_test_split(X_minmax, y, test_size=0.3, random_state=42)\n",
    "\n",
    "# Create Multinomial Naïve Bayes classifier again with properly scaled data\n",
    "mnb = GaussianNB()\n",
    "\n",
    "# Train the classifier on the training data\n",
    "mnb.fit(X_train_minmax, y_train_minmax)\n",
    "\n",
    "# Predict the labels for the test set\n",
    "y_pred_mnb = mnb.predict(X_test_minmax)\n",
    "\n",
    "# Evaluate the classifier\n",
    "accuracy_mnb = accuracy_score(y_test_minmax, y_pred_mnb)\n",
    "class_report_mnb = classification_report(y_test_minmax, y_pred_mnb)\n",
    "\n",
    "print(\"Accuracy: \", accuracy_mnb)\n",
    "print(\"class_report: \", class_report_mnb)"
   ]
  },
  {
   "cell_type": "code",
   "execution_count": 194,
   "metadata": {},
   "outputs": [
    {
     "data": {
      "text/plain": [
       "[0, 1, 1, 0, 0]"
      ]
     },
     "execution_count": 194,
     "metadata": {},
     "output_type": "execute_result"
    }
   ],
   "source": [
    "predictions_gnb = mnb.predict(new_data_scaled)\n",
    "predictions_gnb.tolist()"
   ]
  }
 ],
 "metadata": {
  "kernelspec": {
   "display_name": "ml",
   "language": "python",
   "name": "python3"
  },
  "language_info": {
   "codemirror_mode": {
    "name": "ipython",
    "version": 3
   },
   "file_extension": ".py",
   "mimetype": "text/x-python",
   "name": "python",
   "nbconvert_exporter": "python",
   "pygments_lexer": "ipython3",
   "version": "3.9.18"
  }
 },
 "nbformat": 4,
 "nbformat_minor": 2
}
