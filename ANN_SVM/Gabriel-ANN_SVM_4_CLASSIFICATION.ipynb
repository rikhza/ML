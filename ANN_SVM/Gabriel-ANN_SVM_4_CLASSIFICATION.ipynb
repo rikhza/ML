{
 "cells": [
  {
   "cell_type": "markdown",
   "metadata": {},
   "source": [
    "# CLASSIFICATION USING ANN AND SVM"
   ]
  },
  {
   "cell_type": "code",
   "execution_count": null,
   "metadata": {},
   "outputs": [],
   "source": [
    "Kelompok 3:\n",
    "2502398571 - Muhammad Rikhza Maulana\n",
    "2502398615 - Anatha Pindhika Hermawan\n",
    "2502399366 - Gabriel Rolly Davinsi "
   ]
  },
  {
   "cell_type": "code",
   "execution_count": 53,
   "metadata": {},
   "outputs": [],
   "source": [
    "import numpy as np\n",
    "import pandas as pd\n",
    "\n",
    "import matplotlib.pyplot as plt"
   ]
  },
  {
   "cell_type": "code",
   "execution_count": 57,
   "metadata": {
    "colab": {},
    "colab_type": "code",
    "id": "rvPXb5V5jPN-"
   },
   "outputs": [
    {
     "data": {
      "text/html": [
       "<div>\n",
       "<style scoped>\n",
       "    .dataframe tbody tr th:only-of-type {\n",
       "        vertical-align: middle;\n",
       "    }\n",
       "\n",
       "    .dataframe tbody tr th {\n",
       "        vertical-align: top;\n",
       "    }\n",
       "\n",
       "    .dataframe thead th {\n",
       "        text-align: right;\n",
       "    }\n",
       "</style>\n",
       "<table border=\"1\" class=\"dataframe\">\n",
       "  <thead>\n",
       "    <tr style=\"text-align: right;\">\n",
       "      <th></th>\n",
       "      <th>RowNumber</th>\n",
       "      <th>CustomerId</th>\n",
       "      <th>Surname</th>\n",
       "      <th>CreditScore</th>\n",
       "      <th>Geography</th>\n",
       "      <th>Gender</th>\n",
       "      <th>Age</th>\n",
       "      <th>Tenure</th>\n",
       "      <th>Balance</th>\n",
       "      <th>NumOfProducts</th>\n",
       "      <th>HasCrCard</th>\n",
       "      <th>IsActiveMember</th>\n",
       "      <th>EstimatedSalary</th>\n",
       "      <th>Exited</th>\n",
       "    </tr>\n",
       "  </thead>\n",
       "  <tbody>\n",
       "    <tr>\n",
       "      <th>0</th>\n",
       "      <td>1</td>\n",
       "      <td>15634602</td>\n",
       "      <td>Hargrave</td>\n",
       "      <td>619</td>\n",
       "      <td>France</td>\n",
       "      <td>Female</td>\n",
       "      <td>42</td>\n",
       "      <td>2</td>\n",
       "      <td>0.00</td>\n",
       "      <td>1</td>\n",
       "      <td>1</td>\n",
       "      <td>1</td>\n",
       "      <td>101348.88</td>\n",
       "      <td>1</td>\n",
       "    </tr>\n",
       "    <tr>\n",
       "      <th>1</th>\n",
       "      <td>2</td>\n",
       "      <td>15647311</td>\n",
       "      <td>Hill</td>\n",
       "      <td>608</td>\n",
       "      <td>Spain</td>\n",
       "      <td>Female</td>\n",
       "      <td>41</td>\n",
       "      <td>1</td>\n",
       "      <td>83807.86</td>\n",
       "      <td>1</td>\n",
       "      <td>0</td>\n",
       "      <td>1</td>\n",
       "      <td>112542.58</td>\n",
       "      <td>0</td>\n",
       "    </tr>\n",
       "    <tr>\n",
       "      <th>2</th>\n",
       "      <td>3</td>\n",
       "      <td>15619304</td>\n",
       "      <td>Onio</td>\n",
       "      <td>502</td>\n",
       "      <td>France</td>\n",
       "      <td>Female</td>\n",
       "      <td>42</td>\n",
       "      <td>8</td>\n",
       "      <td>159660.80</td>\n",
       "      <td>3</td>\n",
       "      <td>1</td>\n",
       "      <td>0</td>\n",
       "      <td>113931.57</td>\n",
       "      <td>1</td>\n",
       "    </tr>\n",
       "    <tr>\n",
       "      <th>3</th>\n",
       "      <td>4</td>\n",
       "      <td>15701354</td>\n",
       "      <td>Boni</td>\n",
       "      <td>699</td>\n",
       "      <td>France</td>\n",
       "      <td>Female</td>\n",
       "      <td>39</td>\n",
       "      <td>1</td>\n",
       "      <td>0.00</td>\n",
       "      <td>2</td>\n",
       "      <td>0</td>\n",
       "      <td>0</td>\n",
       "      <td>93826.63</td>\n",
       "      <td>0</td>\n",
       "    </tr>\n",
       "  </tbody>\n",
       "</table>\n",
       "</div>"
      ],
      "text/plain": [
       "   RowNumber  CustomerId   Surname  CreditScore Geography  Gender  Age  \\\n",
       "0          1    15634602  Hargrave          619    France  Female   42   \n",
       "1          2    15647311      Hill          608     Spain  Female   41   \n",
       "2          3    15619304      Onio          502    France  Female   42   \n",
       "3          4    15701354      Boni          699    France  Female   39   \n",
       "\n",
       "   Tenure    Balance  NumOfProducts  HasCrCard  IsActiveMember  \\\n",
       "0       2       0.00              1          1               1   \n",
       "1       1   83807.86              1          0               1   \n",
       "2       8  159660.80              3          1               0   \n",
       "3       1       0.00              2          0               0   \n",
       "\n",
       "   EstimatedSalary  Exited  \n",
       "0        101348.88       1  \n",
       "1        112542.58       0  \n",
       "2        113931.57       1  \n",
       "3         93826.63       0  "
      ]
     },
     "execution_count": 57,
     "metadata": {},
     "output_type": "execute_result"
    }
   ],
   "source": [
    "data = pd.read_csv('Churn_Dataset.csv')\n",
    "\n",
    "data.head(4)"
   ]
  },
  {
   "cell_type": "code",
   "execution_count": 55,
   "metadata": {
    "colab": {},
    "colab_type": "code",
    "id": "TinF8sdf9atQ"
   },
   "outputs": [
    {
     "name": "stdout",
     "output_type": "stream",
     "text": [
      "<class 'pandas.core.frame.DataFrame'>\n",
      "RangeIndex: 10000 entries, 0 to 9999\n",
      "Data columns (total 14 columns):\n",
      " #   Column           Non-Null Count  Dtype  \n",
      "---  ------           --------------  -----  \n",
      " 0   RowNumber        10000 non-null  int64  \n",
      " 1   CustomerId       10000 non-null  int64  \n",
      " 2   Surname          10000 non-null  object \n",
      " 3   CreditScore      10000 non-null  int64  \n",
      " 4   Geography        10000 non-null  object \n",
      " 5   Gender           10000 non-null  object \n",
      " 6   Age              10000 non-null  int64  \n",
      " 7   Tenure           10000 non-null  int64  \n",
      " 8   Balance          10000 non-null  float64\n",
      " 9   NumOfProducts    10000 non-null  int64  \n",
      " 10  HasCrCard        10000 non-null  int64  \n",
      " 11  IsActiveMember   10000 non-null  int64  \n",
      " 12  EstimatedSalary  10000 non-null  float64\n",
      " 13  Exited           10000 non-null  int64  \n",
      "dtypes: float64(2), int64(9), object(3)\n",
      "memory usage: 1.1+ MB\n"
     ]
    }
   ],
   "source": [
    "data.info()"
   ]
  },
  {
   "cell_type": "code",
   "execution_count": 56,
   "metadata": {
    "colab": {},
    "colab_type": "code",
    "id": "fX7PPpba973B"
   },
   "outputs": [
    {
     "data": {
      "text/html": [
       "<div>\n",
       "<style scoped>\n",
       "    .dataframe tbody tr th:only-of-type {\n",
       "        vertical-align: middle;\n",
       "    }\n",
       "\n",
       "    .dataframe tbody tr th {\n",
       "        vertical-align: top;\n",
       "    }\n",
       "\n",
       "    .dataframe thead th {\n",
       "        text-align: right;\n",
       "    }\n",
       "</style>\n",
       "<table border=\"1\" class=\"dataframe\">\n",
       "  <thead>\n",
       "    <tr style=\"text-align: right;\">\n",
       "      <th></th>\n",
       "      <th>RowNumber</th>\n",
       "      <th>CustomerId</th>\n",
       "      <th>CreditScore</th>\n",
       "      <th>Age</th>\n",
       "      <th>Tenure</th>\n",
       "      <th>Balance</th>\n",
       "      <th>NumOfProducts</th>\n",
       "      <th>HasCrCard</th>\n",
       "      <th>IsActiveMember</th>\n",
       "      <th>EstimatedSalary</th>\n",
       "      <th>Exited</th>\n",
       "    </tr>\n",
       "  </thead>\n",
       "  <tbody>\n",
       "    <tr>\n",
       "      <th>count</th>\n",
       "      <td>10000.00000</td>\n",
       "      <td>1.000000e+04</td>\n",
       "      <td>10000.000000</td>\n",
       "      <td>10000.000000</td>\n",
       "      <td>10000.000000</td>\n",
       "      <td>10000.000000</td>\n",
       "      <td>10000.000000</td>\n",
       "      <td>10000.00000</td>\n",
       "      <td>10000.000000</td>\n",
       "      <td>10000.000000</td>\n",
       "      <td>10000.000000</td>\n",
       "    </tr>\n",
       "    <tr>\n",
       "      <th>mean</th>\n",
       "      <td>5000.50000</td>\n",
       "      <td>1.569094e+07</td>\n",
       "      <td>650.528800</td>\n",
       "      <td>38.921800</td>\n",
       "      <td>5.012800</td>\n",
       "      <td>76485.889288</td>\n",
       "      <td>1.530200</td>\n",
       "      <td>0.70550</td>\n",
       "      <td>0.515100</td>\n",
       "      <td>100090.239881</td>\n",
       "      <td>0.203700</td>\n",
       "    </tr>\n",
       "    <tr>\n",
       "      <th>std</th>\n",
       "      <td>2886.89568</td>\n",
       "      <td>7.193619e+04</td>\n",
       "      <td>96.653299</td>\n",
       "      <td>10.487806</td>\n",
       "      <td>2.892174</td>\n",
       "      <td>62397.405202</td>\n",
       "      <td>0.581654</td>\n",
       "      <td>0.45584</td>\n",
       "      <td>0.499797</td>\n",
       "      <td>57510.492818</td>\n",
       "      <td>0.402769</td>\n",
       "    </tr>\n",
       "    <tr>\n",
       "      <th>min</th>\n",
       "      <td>1.00000</td>\n",
       "      <td>1.556570e+07</td>\n",
       "      <td>350.000000</td>\n",
       "      <td>18.000000</td>\n",
       "      <td>0.000000</td>\n",
       "      <td>0.000000</td>\n",
       "      <td>1.000000</td>\n",
       "      <td>0.00000</td>\n",
       "      <td>0.000000</td>\n",
       "      <td>11.580000</td>\n",
       "      <td>0.000000</td>\n",
       "    </tr>\n",
       "    <tr>\n",
       "      <th>25%</th>\n",
       "      <td>2500.75000</td>\n",
       "      <td>1.562853e+07</td>\n",
       "      <td>584.000000</td>\n",
       "      <td>32.000000</td>\n",
       "      <td>3.000000</td>\n",
       "      <td>0.000000</td>\n",
       "      <td>1.000000</td>\n",
       "      <td>0.00000</td>\n",
       "      <td>0.000000</td>\n",
       "      <td>51002.110000</td>\n",
       "      <td>0.000000</td>\n",
       "    </tr>\n",
       "    <tr>\n",
       "      <th>50%</th>\n",
       "      <td>5000.50000</td>\n",
       "      <td>1.569074e+07</td>\n",
       "      <td>652.000000</td>\n",
       "      <td>37.000000</td>\n",
       "      <td>5.000000</td>\n",
       "      <td>97198.540000</td>\n",
       "      <td>1.000000</td>\n",
       "      <td>1.00000</td>\n",
       "      <td>1.000000</td>\n",
       "      <td>100193.915000</td>\n",
       "      <td>0.000000</td>\n",
       "    </tr>\n",
       "    <tr>\n",
       "      <th>75%</th>\n",
       "      <td>7500.25000</td>\n",
       "      <td>1.575323e+07</td>\n",
       "      <td>718.000000</td>\n",
       "      <td>44.000000</td>\n",
       "      <td>7.000000</td>\n",
       "      <td>127644.240000</td>\n",
       "      <td>2.000000</td>\n",
       "      <td>1.00000</td>\n",
       "      <td>1.000000</td>\n",
       "      <td>149388.247500</td>\n",
       "      <td>0.000000</td>\n",
       "    </tr>\n",
       "    <tr>\n",
       "      <th>max</th>\n",
       "      <td>10000.00000</td>\n",
       "      <td>1.581569e+07</td>\n",
       "      <td>850.000000</td>\n",
       "      <td>92.000000</td>\n",
       "      <td>10.000000</td>\n",
       "      <td>250898.090000</td>\n",
       "      <td>4.000000</td>\n",
       "      <td>1.00000</td>\n",
       "      <td>1.000000</td>\n",
       "      <td>199992.480000</td>\n",
       "      <td>1.000000</td>\n",
       "    </tr>\n",
       "  </tbody>\n",
       "</table>\n",
       "</div>"
      ],
      "text/plain": [
       "         RowNumber    CustomerId   CreditScore           Age        Tenure  \\\n",
       "count  10000.00000  1.000000e+04  10000.000000  10000.000000  10000.000000   \n",
       "mean    5000.50000  1.569094e+07    650.528800     38.921800      5.012800   \n",
       "std     2886.89568  7.193619e+04     96.653299     10.487806      2.892174   \n",
       "min        1.00000  1.556570e+07    350.000000     18.000000      0.000000   \n",
       "25%     2500.75000  1.562853e+07    584.000000     32.000000      3.000000   \n",
       "50%     5000.50000  1.569074e+07    652.000000     37.000000      5.000000   \n",
       "75%     7500.25000  1.575323e+07    718.000000     44.000000      7.000000   \n",
       "max    10000.00000  1.581569e+07    850.000000     92.000000     10.000000   \n",
       "\n",
       "             Balance  NumOfProducts    HasCrCard  IsActiveMember  \\\n",
       "count   10000.000000   10000.000000  10000.00000    10000.000000   \n",
       "mean    76485.889288       1.530200      0.70550        0.515100   \n",
       "std     62397.405202       0.581654      0.45584        0.499797   \n",
       "min         0.000000       1.000000      0.00000        0.000000   \n",
       "25%         0.000000       1.000000      0.00000        0.000000   \n",
       "50%     97198.540000       1.000000      1.00000        1.000000   \n",
       "75%    127644.240000       2.000000      1.00000        1.000000   \n",
       "max    250898.090000       4.000000      1.00000        1.000000   \n",
       "\n",
       "       EstimatedSalary        Exited  \n",
       "count     10000.000000  10000.000000  \n",
       "mean     100090.239881      0.203700  \n",
       "std       57510.492818      0.402769  \n",
       "min          11.580000      0.000000  \n",
       "25%       51002.110000      0.000000  \n",
       "50%      100193.915000      0.000000  \n",
       "75%      149388.247500      0.000000  \n",
       "max      199992.480000      1.000000  "
      ]
     },
     "execution_count": 56,
     "metadata": {},
     "output_type": "execute_result"
    }
   ],
   "source": [
    "data.describe()"
   ]
  },
  {
   "cell_type": "code",
   "execution_count": 40,
   "metadata": {
    "colab": {},
    "colab_type": "code",
    "id": "DKnxi2l3jzWs"
   },
   "outputs": [
    {
     "data": {
      "text/plain": [
       "RowNumber          0\n",
       "CustomerId         0\n",
       "Surname            0\n",
       "CreditScore        0\n",
       "Geography          0\n",
       "Gender             0\n",
       "Age                0\n",
       "Tenure             0\n",
       "Balance            0\n",
       "NumOfProducts      0\n",
       "HasCrCard          0\n",
       "IsActiveMember     0\n",
       "EstimatedSalary    0\n",
       "Exited             0\n",
       "dtype: int64"
      ]
     },
     "execution_count": 40,
     "metadata": {},
     "output_type": "execute_result"
    }
   ],
   "source": [
    "# Checking if our dataset contains any NULL values\n",
    "\n",
    "data.isnull().sum()"
   ]
  },
  {
   "cell_type": "markdown",
   "metadata": {},
   "source": [
    "# DATA PREPROCESSING"
   ]
  },
  {
   "cell_type": "code",
   "execution_count": 41,
   "metadata": {
    "colab": {},
    "colab_type": "code",
    "id": "wce3Hm9XU3XT"
   },
   "outputs": [],
   "source": [
    "# Removing the unnecassary features from the dataset\n",
    "\n",
    "data = data.drop('Surname', axis=1)\n",
    "data = data.drop('RowNumber', axis=1)\n",
    "data = data.drop('CustomerId', axis=1)\n"
   ]
  },
  {
   "cell_type": "code",
   "execution_count": 42,
   "metadata": {},
   "outputs": [
    {
     "data": {
      "text/plain": [
       "(   CreditScore Geography  Gender  Age  Tenure    Balance  NumOfProducts  \\\n",
       " 0          619    France  Female   42       2       0.00              1   \n",
       " 1          608     Spain  Female   41       1   83807.86              1   \n",
       " 2          502    France  Female   42       8  159660.80              3   \n",
       " 3          699    France  Female   39       1       0.00              2   \n",
       " 4          850     Spain  Female   43       2  125510.82              1   \n",
       " \n",
       "    HasCrCard  IsActiveMember  EstimatedSalary  \n",
       " 0          1               1        101348.88  \n",
       " 1          0               1        112542.58  \n",
       " 2          1               0        113931.57  \n",
       " 3          0               0         93826.63  \n",
       " 4          1               1         79084.10  ,\n",
       " 0    1\n",
       " 1    0\n",
       " 2    1\n",
       " 3    0\n",
       " 4    0\n",
       " Name: Exited, dtype: int64)"
      ]
     },
     "execution_count": 42,
     "metadata": {},
     "output_type": "execute_result"
    }
   ],
   "source": [
    "# splitting the dataset into x(independent variables) and y(dependent variables)\n",
    "\n",
    "# Independent variables\n",
    "X = data.drop('Exited', axis=1)\n",
    "\n",
    "# Dependent variable\n",
    "y = data['Exited']\n",
    "\n",
    "X.head(), y.head()"
   ]
  },
  {
   "cell_type": "code",
   "execution_count": 43,
   "metadata": {},
   "outputs": [
    {
     "name": "stdout",
     "output_type": "stream",
     "text": [
      "      CreditScore  Age  Tenure    Balance  NumOfProducts  HasCrCard  \\\n",
      "0             619   42       2       0.00              1          1   \n",
      "1             608   41       1   83807.86              1          0   \n",
      "2             502   42       8  159660.80              3          1   \n",
      "3             699   39       1       0.00              2          0   \n",
      "4             850   43       2  125510.82              1          1   \n",
      "...           ...  ...     ...        ...            ...        ...   \n",
      "9995          771   39       5       0.00              2          1   \n",
      "9996          516   35      10   57369.61              1          1   \n",
      "9997          709   36       7       0.00              1          0   \n",
      "9998          772   42       3   75075.31              2          1   \n",
      "9999          792   28       4  130142.79              1          1   \n",
      "\n",
      "      IsActiveMember  EstimatedSalary  Gender_Female  Gender_Male  \\\n",
      "0                  1        101348.88           True        False   \n",
      "1                  1        112542.58           True        False   \n",
      "2                  0        113931.57           True        False   \n",
      "3                  0         93826.63           True        False   \n",
      "4                  1         79084.10           True        False   \n",
      "...              ...              ...            ...          ...   \n",
      "9995               0         96270.64          False         True   \n",
      "9996               1        101699.77          False         True   \n",
      "9997               1         42085.58           True        False   \n",
      "9998               0         92888.52          False         True   \n",
      "9999               0         38190.78           True        False   \n",
      "\n",
      "      Geography_France  Geography_Germany  Geography_Spain  \n",
      "0                 True              False            False  \n",
      "1                False              False             True  \n",
      "2                 True              False            False  \n",
      "3                 True              False            False  \n",
      "4                False              False             True  \n",
      "...                ...                ...              ...  \n",
      "9995              True              False            False  \n",
      "9996              True              False            False  \n",
      "9997              True              False            False  \n",
      "9998             False               True            False  \n",
      "9999              True              False            False  \n",
      "\n",
      "[10000 rows x 13 columns]\n"
     ]
    }
   ],
   "source": [
    "#split\n",
    "X_encoded=pd.get_dummies(X, columns=[\"Gender\", \"Geography\"])\n",
    "print(X_encoded)"
   ]
  },
  {
   "cell_type": "code",
   "execution_count": 44,
   "metadata": {
    "colab": {},
    "colab_type": "code",
    "id": "9RqmZSGX5TcE"
   },
   "outputs": [
    {
     "data": {
      "text/plain": [
       "((8000, 13), (2000, 13), (8000,), (2000,))"
      ]
     },
     "execution_count": 44,
     "metadata": {},
     "output_type": "execute_result"
    }
   ],
   "source": [
    "# splitting the data into training and testing set\n",
    "\n",
    "from sklearn.model_selection import train_test_split\n",
    "\n",
    "# Split the data into training and testing sets\n",
    "x_train, x_test, y_train, y_test = train_test_split(X_encoded, y, test_size=0.2, random_state=42)\n",
    "\n",
    "# Output the shapes of the resulting data splits\n",
    "x_train.shape, x_test.shape, y_train.shape, y_test.shape\n"
   ]
  },
  {
   "cell_type": "code",
   "execution_count": null,
   "metadata": {},
   "outputs": [],
   "source": [
    "Penggunaan MinMaxScaler berguna untuk mengubah rentang nilai fitur menjadi rentang yang diinginkan (dalam hal ini, -1 hingga 1). \n",
    "Hal ini membantu model untuk lebih mudah dan stabil dalam mempelajari pola pada data, \n",
    "terutama jika ada perbedaan rentang nilai yang besar antara fitur-fitur."
   ]
  },
  {
   "cell_type": "code",
   "execution_count": 84,
   "metadata": {
    "colab": {},
    "colab_type": "code",
    "id": "HMz6rg-_bTzq"
   },
   "outputs": [],
   "source": [
    "# Feature Scaling \n",
    "# Only on Independent Variable to convert them into values ranging from -1 to +1\n",
    "\n",
    "from sklearn.preprocessing import StandardScaler\n",
    "from sklearn.preprocessing import MinMaxScaler\n",
    "\n",
    "sc = MinMaxScaler(feature_range=(-1, 1))\n",
    "x_train = sc.fit_transform(x_train)\n",
    "x_test = sc.fit_transform(x_test)"
   ]
  },
  {
   "cell_type": "markdown",
   "metadata": {},
   "source": [
    "# LOGISTIC REGRESSION"
   ]
  },
  {
   "cell_type": "code",
   "execution_count": 46,
   "metadata": {},
   "outputs": [
    {
     "name": "stdout",
     "output_type": "stream",
     "text": [
      "Training Accuracy : 0.81125\n",
      "Testing Accuracy : 0.81\n",
      "[[1537   70]\n",
      " [ 310   83]]\n"
     ]
    }
   ],
   "source": [
    "from sklearn.linear_model import LogisticRegression\n",
    "from sklearn.metrics import confusion_matrix\n",
    "\n",
    "model = LogisticRegression()\n",
    "model.fit(x_train, y_train)\n",
    "\n",
    "y_pred = model.predict(x_test)\n",
    "\n",
    "print(\"Training Accuracy :\", model.score(x_train, y_train))\n",
    "print(\"Testing Accuracy :\", model.score(x_test, y_test))\n",
    "\n",
    "cm = confusion_matrix(y_test, y_pred)\n",
    "print(cm)"
   ]
  },
  {
   "cell_type": "markdown",
   "metadata": {},
   "source": [
    "# SUPPORT  VECTOR MACHINE"
   ]
  },
  {
   "cell_type": "code",
   "execution_count": 47,
   "metadata": {},
   "outputs": [
    {
     "name": "stdout",
     "output_type": "stream",
     "text": [
      "Training Accuracy : 0.837875\n",
      "Testing Accuracy : 0.841\n",
      "[[1591   16]\n",
      " [ 302   91]]\n"
     ]
    }
   ],
   "source": [
    "from sklearn.svm import SVC\n",
    "from sklearn.metrics import confusion_matrix\n",
    "\n",
    "model = SVC()\n",
    "model.fit(x_train, y_train)\n",
    "\n",
    "y_pred = model.predict(x_test)\n",
    "\n",
    "print(\"Training Accuracy :\", model.score(x_train, y_train))\n",
    "print(\"Testing Accuracy :\", model.score(x_test, y_test))\n",
    "\n",
    "cm = confusion_matrix(y_test, y_pred)\n",
    "print(cm)"
   ]
  },
  {
   "cell_type": "code",
   "execution_count": 48,
   "metadata": {},
   "outputs": [
    {
     "name": "stdout",
     "output_type": "stream",
     "text": [
      "[0.835   0.8375  0.8275  0.8175  0.8425  0.82    0.845   0.82875 0.84125\n",
      " 0.83625]\n"
     ]
    }
   ],
   "source": [
    "from sklearn.model_selection import cross_val_score\n",
    "\n",
    "cvs = cross_val_score(estimator = model, X = x_train, y = y_train, cv = 10)\n",
    "print(cvs)"
   ]
  },
  {
   "cell_type": "markdown",
   "metadata": {},
   "source": [
    "# MULTILAYER ANN"
   ]
  },
  {
   "cell_type": "code",
   "execution_count": null,
   "metadata": {},
   "outputs": [],
   "source": [
    "Pada kodingan di bawah ini kami menambahkan 3 activasi relu (hidden layer) atau 3 lapisan tersembunyi dengan jumlah neuron masing 6, 18 dan 32, \n",
    "serta activasi sigmoid dengan 1 neuron.\n",
    "Pemilihan jumlah neuron ini dapat mempengaruhi kapasitas model dan kemampuannya untuk mempelajari pola dalam data. Jumlah neuron yang lebih besar dapat memungkinkan model \n",
    "untuk memahami pola yang lebih kompleks, tetapi juga dapat meningkatkan risiko overfitting, terutama jika data pelatihan terbatas. Sebaliknya, \n",
    "jumlah neuron yang lebih kecil dapat mengurangi risiko overfitting, tetapi mungkin kurang mampu memodelkan pola yang kompleks dalam data. \n",
    "Pemilihan arsitektur model ini dapat menjadi bagian dari proses eksperimen dan penyesuaian saat membangun model.\n",
    "\n",
    "Menariknya dengan model ini kami menemukan bahwa accuracy testing jauh lebih baik dari training sebagai salah satu indikasi ketaktersediaannya overfitting, \n",
    "ketimbang model-model sebelumnya dengan jumlah neuron dan hidden layer yang jauh lebih sedikit."
   ]
  },
  {
   "cell_type": "code",
   "execution_count": 79,
   "metadata": {},
   "outputs": [],
   "source": [
    "from tensorflow.keras.models import Sequential\n",
    "from tensorflow.keras.layers import Dense\n",
    "\n",
    "#Initialising ANN\n",
    "input_shape = x_train.shape[1:]\n",
    "\n",
    "# define the keras model\n",
    "model = Sequential()\n",
    "model.add(Dense(6, input_shape=(input_shape), activation='relu'))\n",
    "model.add(Dense(18, activation='relu'))\n",
    "model.add(Dense(32, activation='relu'))\n",
    "model.add(Dense(1, activation='sigmoid'))"
   ]
  },
  {
   "cell_type": "code",
   "execution_count": null,
   "metadata": {},
   "outputs": [],
   "source": [
    "Kami menambahkan jumlah iterasi dan junmlah sampel yang digunakan. Batch_File yang ditambah emungkinkan model untuk melihat sekelompok sampel sekaligus \n",
    "dan mempercepat proses pelatihan meskipun resikonya harus menyiapkan memori yang lebih besar. Namun sejauh ini dengan menambahkan jumlah sampel tingkat akurasinya \n",
    "terus menunjukan peningkatan."
   ]
  },
  {
   "cell_type": "code",
   "execution_count": 80,
   "metadata": {},
   "outputs": [
    {
     "name": "stdout",
     "output_type": "stream",
     "text": [
      "Epoch 1/50\n",
      "267/267 [==============================] - 4s 7ms/step - loss: 0.5068 - accuracy: 0.7897 - val_loss: 0.4556 - val_accuracy: 0.8035\n",
      "Epoch 2/50\n",
      "267/267 [==============================] - 1s 5ms/step - loss: 0.4618 - accuracy: 0.7934 - val_loss: 0.4419 - val_accuracy: 0.8040\n",
      "Epoch 3/50\n",
      "267/267 [==============================] - 1s 4ms/step - loss: 0.4499 - accuracy: 0.7989 - val_loss: 0.4322 - val_accuracy: 0.8095\n",
      "Epoch 4/50\n",
      "267/267 [==============================] - 1s 4ms/step - loss: 0.4384 - accuracy: 0.8071 - val_loss: 0.4203 - val_accuracy: 0.8120\n",
      "Epoch 5/50\n",
      "267/267 [==============================] - 1s 4ms/step - loss: 0.4285 - accuracy: 0.8121 - val_loss: 0.4120 - val_accuracy: 0.8220\n",
      "Epoch 6/50\n",
      "267/267 [==============================] - 1s 4ms/step - loss: 0.4214 - accuracy: 0.8158 - val_loss: 0.4074 - val_accuracy: 0.8235\n",
      "Epoch 7/50\n",
      "267/267 [==============================] - 1s 5ms/step - loss: 0.4162 - accuracy: 0.8220 - val_loss: 0.3969 - val_accuracy: 0.8320\n",
      "Epoch 8/50\n",
      "267/267 [==============================] - 1s 5ms/step - loss: 0.4089 - accuracy: 0.8305 - val_loss: 0.3924 - val_accuracy: 0.8390\n",
      "Epoch 9/50\n",
      "267/267 [==============================] - 1s 5ms/step - loss: 0.4031 - accuracy: 0.8322 - val_loss: 0.3885 - val_accuracy: 0.8390\n",
      "Epoch 10/50\n",
      "267/267 [==============================] - 1s 5ms/step - loss: 0.3952 - accuracy: 0.8376 - val_loss: 0.3784 - val_accuracy: 0.8460\n",
      "Epoch 11/50\n",
      "267/267 [==============================] - 1s 5ms/step - loss: 0.3824 - accuracy: 0.8434 - val_loss: 0.3676 - val_accuracy: 0.8505\n",
      "Epoch 12/50\n",
      "267/267 [==============================] - 1s 5ms/step - loss: 0.3695 - accuracy: 0.8484 - val_loss: 0.3552 - val_accuracy: 0.8555\n",
      "Epoch 13/50\n",
      "267/267 [==============================] - 1s 5ms/step - loss: 0.3588 - accuracy: 0.8531 - val_loss: 0.3511 - val_accuracy: 0.8550\n",
      "Epoch 14/50\n",
      "267/267 [==============================] - 1s 5ms/step - loss: 0.3513 - accuracy: 0.8570 - val_loss: 0.3483 - val_accuracy: 0.8565\n",
      "Epoch 15/50\n",
      "267/267 [==============================] - 1s 4ms/step - loss: 0.3488 - accuracy: 0.8576 - val_loss: 0.3435 - val_accuracy: 0.8595\n",
      "Epoch 16/50\n",
      "267/267 [==============================] - 1s 4ms/step - loss: 0.3448 - accuracy: 0.8608 - val_loss: 0.3423 - val_accuracy: 0.8545\n",
      "Epoch 17/50\n",
      "267/267 [==============================] - 1s 4ms/step - loss: 0.3437 - accuracy: 0.8611 - val_loss: 0.3437 - val_accuracy: 0.8580\n",
      "Epoch 18/50\n",
      "267/267 [==============================] - 1s 4ms/step - loss: 0.3418 - accuracy: 0.8619 - val_loss: 0.3421 - val_accuracy: 0.8585\n",
      "Epoch 19/50\n",
      "267/267 [==============================] - 1s 4ms/step - loss: 0.3406 - accuracy: 0.8618 - val_loss: 0.3409 - val_accuracy: 0.8570\n",
      "Epoch 20/50\n",
      "267/267 [==============================] - 1s 4ms/step - loss: 0.3402 - accuracy: 0.8619 - val_loss: 0.3473 - val_accuracy: 0.8565\n",
      "Epoch 21/50\n",
      "267/267 [==============================] - 1s 4ms/step - loss: 0.3409 - accuracy: 0.8597 - val_loss: 0.3450 - val_accuracy: 0.8610\n",
      "Epoch 22/50\n",
      "267/267 [==============================] - 1s 5ms/step - loss: 0.3378 - accuracy: 0.8615 - val_loss: 0.3411 - val_accuracy: 0.8610\n",
      "Epoch 23/50\n",
      "267/267 [==============================] - 1s 5ms/step - loss: 0.3381 - accuracy: 0.8616 - val_loss: 0.3395 - val_accuracy: 0.8615\n",
      "Epoch 24/50\n",
      "267/267 [==============================] - 1s 5ms/step - loss: 0.3374 - accuracy: 0.8635 - val_loss: 0.3396 - val_accuracy: 0.8610\n",
      "Epoch 25/50\n",
      "267/267 [==============================] - 1s 5ms/step - loss: 0.3367 - accuracy: 0.8629 - val_loss: 0.3391 - val_accuracy: 0.8610\n",
      "Epoch 26/50\n",
      "267/267 [==============================] - 1s 5ms/step - loss: 0.3363 - accuracy: 0.8609 - val_loss: 0.3420 - val_accuracy: 0.8645\n",
      "Epoch 27/50\n",
      "267/267 [==============================] - 1s 4ms/step - loss: 0.3359 - accuracy: 0.8626 - val_loss: 0.3459 - val_accuracy: 0.8610\n",
      "Epoch 28/50\n",
      "267/267 [==============================] - 1s 5ms/step - loss: 0.3361 - accuracy: 0.8611 - val_loss: 0.3453 - val_accuracy: 0.8635\n",
      "Epoch 29/50\n",
      "267/267 [==============================] - 1s 5ms/step - loss: 0.3361 - accuracy: 0.8609 - val_loss: 0.3422 - val_accuracy: 0.8635\n",
      "Epoch 30/50\n",
      "267/267 [==============================] - 1s 5ms/step - loss: 0.3345 - accuracy: 0.8634 - val_loss: 0.3406 - val_accuracy: 0.8645\n",
      "Epoch 31/50\n",
      "267/267 [==============================] - 1s 5ms/step - loss: 0.3341 - accuracy: 0.8639 - val_loss: 0.3441 - val_accuracy: 0.8625\n",
      "Epoch 32/50\n",
      "267/267 [==============================] - 1s 4ms/step - loss: 0.3349 - accuracy: 0.8626 - val_loss: 0.3396 - val_accuracy: 0.8625\n",
      "Epoch 33/50\n",
      "267/267 [==============================] - 1s 4ms/step - loss: 0.3340 - accuracy: 0.8627 - val_loss: 0.3447 - val_accuracy: 0.8620\n",
      "Epoch 34/50\n",
      "267/267 [==============================] - 1s 4ms/step - loss: 0.3333 - accuracy: 0.8646 - val_loss: 0.3401 - val_accuracy: 0.8615\n",
      "Epoch 35/50\n",
      "267/267 [==============================] - 1s 4ms/step - loss: 0.3337 - accuracy: 0.8620 - val_loss: 0.3436 - val_accuracy: 0.8590\n",
      "Epoch 36/50\n",
      "267/267 [==============================] - 1s 4ms/step - loss: 0.3337 - accuracy: 0.8655 - val_loss: 0.3429 - val_accuracy: 0.8585\n",
      "Epoch 37/50\n",
      "267/267 [==============================] - 1s 4ms/step - loss: 0.3327 - accuracy: 0.8635 - val_loss: 0.3410 - val_accuracy: 0.8620\n",
      "Epoch 38/50\n",
      "267/267 [==============================] - 1s 4ms/step - loss: 0.3322 - accuracy: 0.8648 - val_loss: 0.3423 - val_accuracy: 0.8630\n",
      "Epoch 39/50\n",
      "267/267 [==============================] - 1s 4ms/step - loss: 0.3324 - accuracy: 0.8648 - val_loss: 0.3433 - val_accuracy: 0.8545\n",
      "Epoch 40/50\n",
      "267/267 [==============================] - 1s 4ms/step - loss: 0.3321 - accuracy: 0.8648 - val_loss: 0.3432 - val_accuracy: 0.8565\n",
      "Epoch 41/50\n",
      "267/267 [==============================] - 1s 4ms/step - loss: 0.3335 - accuracy: 0.8645 - val_loss: 0.3405 - val_accuracy: 0.8585\n",
      "Epoch 42/50\n",
      "267/267 [==============================] - 1s 4ms/step - loss: 0.3325 - accuracy: 0.8629 - val_loss: 0.3409 - val_accuracy: 0.8625\n",
      "Epoch 43/50\n",
      "267/267 [==============================] - 1s 4ms/step - loss: 0.3312 - accuracy: 0.8635 - val_loss: 0.3405 - val_accuracy: 0.8580\n",
      "Epoch 44/50\n",
      "267/267 [==============================] - 1s 4ms/step - loss: 0.3309 - accuracy: 0.8646 - val_loss: 0.3428 - val_accuracy: 0.8630\n",
      "Epoch 45/50\n",
      "267/267 [==============================] - 1s 4ms/step - loss: 0.3312 - accuracy: 0.8643 - val_loss: 0.3421 - val_accuracy: 0.8585\n",
      "Epoch 46/50\n",
      "267/267 [==============================] - 1s 4ms/step - loss: 0.3306 - accuracy: 0.8640 - val_loss: 0.3404 - val_accuracy: 0.8650\n",
      "Epoch 47/50\n",
      "267/267 [==============================] - 1s 4ms/step - loss: 0.3314 - accuracy: 0.8634 - val_loss: 0.3475 - val_accuracy: 0.8640\n",
      "Epoch 48/50\n",
      "267/267 [==============================] - 1s 5ms/step - loss: 0.3309 - accuracy: 0.8660 - val_loss: 0.3464 - val_accuracy: 0.8565\n",
      "Epoch 49/50\n",
      "267/267 [==============================] - 1s 5ms/step - loss: 0.3302 - accuracy: 0.8658 - val_loss: 0.3435 - val_accuracy: 0.8620\n",
      "Epoch 50/50\n",
      "267/267 [==============================] - 1s 4ms/step - loss: 0.3309 - accuracy: 0.8640 - val_loss: 0.3389 - val_accuracy: 0.8650\n"
     ]
    }
   ],
   "source": [
    "# compile the keras model\n",
    "model.compile(loss='binary_crossentropy', optimizer='adam', metrics=['accuracy'])\n",
    "\n",
    "# fit the keras model on the dataset\n",
    "history = model.fit(x_train, y_train, validation_data = (x_test,y_test), epochs=50, batch_size=30)"
   ]
  },
  {
   "cell_type": "code",
   "execution_count": 83,
   "metadata": {},
   "outputs": [
    {
     "data": {
      "image/png": "[encoded data removed]",
      "text/plain": [
       "<Figure size 640x480 with 1 Axes>"
      ]
     },
     "metadata": {},
     "output_type": "display_data"
    }
   ],
   "source": [
    "import matplotlib.pyplot as plt\n",
    "plt.plot(history.history['loss'])\n",
    "plt.plot(history.history['val_loss'])\n",
    "plt.title('Model accuracy - Kelompok 3')\n",
    "plt.ylabel('Accuracy')\n",
    "plt.xlabel('Epoch')\n",
    "plt.legend(['Train', 'Test'], loc='upper left')\n",
    "plt.show()"
   ]
  },
  {
   "cell_type": "code",
   "execution_count": 82,
   "metadata": {
    "colab": {},
    "colab_type": "code",
    "id": "WFOvRqg6GeW3"
   },
   "outputs": [
    {
     "name": "stderr",
     "output_type": "stream",
     "text": [
      "C:\\Users\\Davinci\\AppData\\Local\\Programs\\Python\\Python310\\lib\\site-packages\\sklearn\\base.py:465: UserWarning: X does not have valid feature names, but MinMaxScaler was fitted with feature names\n",
      "  warnings.warn(\n"
     ]
    },
    {
     "name": "stdout",
     "output_type": "stream",
     "text": [
      "1/1 [==============================] - 0s 172ms/step\n",
      "[[ True]]\n"
     ]
    }
   ],
   "source": [
    "'''\n",
    "predicting if the costumer having following information will leave the bank or not ?\n",
    "\n",
    "Geography : france\n",
    "Age = 50\n",
    "Credit score = 850\n",
    "Tenure = 4\n",
    "Balance = 150000\n",
    "Number of Products = 5\n",
    "Gender = Female\n",
    "Has Credit Card = yes\n",
    "Is Active Member = yes\n",
    "Estimated Salary = 85000\n",
    "'''\n",
    "\n",
    "new_prediction = model.predict(sc.transform(np.array([[850, 50, 4, 150000, 5, 1, 1, 85000, 1, 0, 1, 0, 0]]))) \n",
    "\n",
    "new_prediction = (new_prediction > 0.5 )\n",
    "print(new_prediction)"
   ]
  },
  {
   "cell_type": "code",
   "execution_count": null,
   "metadata": {},
   "outputs": [],
   "source": []
  }
 ],
 "metadata": {
  "colab": {
   "collapsed_sections": [],
   "include_colab_link": true,
   "name": "Churn_Modelling.ipynb",
   "provenance": [],
   "version": "0.3.2"
  },
  "kernelspec": {
   "display_name": "Python 3 (ipykernel)",
   "language": "python",
   "name": "python3"
  },
  "language_info": {
   "codemirror_mode": {
    "name": "ipython",
    "version": 3
   },
   "file_extension": ".py",
   "mimetype": "text/x-python",
   "name": "python",
   "nbconvert_exporter": "python",
   "pygments_lexer": "ipython3",
   "version": "3.10.9"
  }
 },
 "nbformat": 4,
 "nbformat_minor": 4
}
