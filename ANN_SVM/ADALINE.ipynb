{
 "cells": [
  {
   "cell_type": "code",
   "execution_count": 3,
   "metadata": {},
   "outputs": [
    {
     "name": "stdout",
     "output_type": "stream",
     "text": [
      "Updated weights: {'w13': 3.000076902906261, 'w14': 6.000236912038268, 'w23': 4.0, 'w24': 5.0, 'w35': 2.0000536226166323, 'w45': 5.000094764815307}\n",
      "Updated biases: {'b3': -3.9296209407387717, 'b4': -5.999052351846929, 'b5': 0.00018952963061418917}\n",
      "New error: 0.0445273934031194\n"
     ]
    }
   ],
   "source": [
    "import numpy as np\n",
    "\n",
    "def sigmoid(x):\n",
    "    return 1 / (1 + np.exp(-x))\n",
    "\n",
    "def sigmoid_derivative(x):\n",
    "    return x * (1 - x)\n",
    "\n",
    "weights = {'w13': 3, 'w14': 6, 'w23': 4, 'w24': 5, 'w35': 2, 'w45': 5}\n",
    "biases = {'b3': -3.93, 'b4': -6, 'b5': 0}  # b5 is not given, assuming it's 0\n",
    "\n",
    "learning_rate = 0.1\n",
    "\n",
    "x1, x2 = 1, 0  # Input pattern\n",
    "y_target = 1    # Target output\n",
    "\n",
    "net_u3 = weights['w13']*x1 + weights['w23']*x2 + biases['b3']\n",
    "out_u3 = sigmoid(net_u3)\n",
    "\n",
    "net_u4 = weights['w14']*x1 + weights['w24']*x2 + biases['b4']\n",
    "out_u4 = sigmoid(net_u4)\n",
    "\n",
    "net_u5 = weights['w35']*out_u3 + weights['w45']*out_u4 + biases['b5']\n",
    "out_u5 = sigmoid(net_u5)\n",
    "\n",
    "error = y_target - out_u5\n",
    "\n",
    "grad_w35 = error * sigmoid_derivative(out_u5) * out_u3\n",
    "grad_w45 = error * sigmoid_derivative(out_u5) * out_u4\n",
    "\n",
    "delta_u3 = weights['w35'] * error * sigmoid_derivative(out_u5)\n",
    "delta_u4 = weights['w45'] * error * sigmoid_derivative(out_u5)\n",
    "\n",
    "grad_w13 = delta_u3 * sigmoid_derivative(out_u3) * x1\n",
    "grad_w23 = delta_u3 * sigmoid_derivative(out_u3) * x2\n",
    "grad_w14 = delta_u4 * sigmoid_derivative(out_u4) * x1\n",
    "grad_w24 = delta_u4 * sigmoid_derivative(out_u4) * x2\n",
    "\n",
    "weights['w35'] += learning_rate * grad_w35\n",
    "weights['w45'] += learning_rate * grad_w45\n",
    "weights['w13'] += learning_rate * grad_w13\n",
    "weights['w23'] += learning_rate * grad_w23\n",
    "weights['w14'] += learning_rate * grad_w14\n",
    "weights['w24'] += learning_rate * grad_w24\n",
    "\n",
    "biases['b3'] += learning_rate * delta_u3\n",
    "biases['b4'] += learning_rate * delta_u4\n",
    "biases['b5'] += learning_rate * error * sigmoid_derivative(out_u5)\n",
    "new_net_u5 = weights['w35']*out_u3 + weights['w45']*out_u4 + biases['b5']\n",
    "new_out_u5 = sigmoid(new_net_u5)\n",
    "new_error = y_target - new_out_u5\n",
    "\n",
    "print(f\"Updated weights: {weights}\")\n",
    "print(f\"Updated biases: {biases}\")\n",
    "print(f\"New error: {new_error}\")\n"
   ]
  }
 ],
 "metadata": {
  "kernelspec": {
   "display_name": "ml",
   "language": "python",
   "name": "python3"
  },
  "language_info": {
   "codemirror_mode": {
    "name": "ipython",
    "version": 3
   },
   "file_extension": ".py",
   "mimetype": "text/x-python",
   "name": "python",
   "nbconvert_exporter": "python",
   "pygments_lexer": "ipython3",
   "version": "3.9.18"
  }
 },
 "nbformat": 4,
 "nbformat_minor": 2
}
