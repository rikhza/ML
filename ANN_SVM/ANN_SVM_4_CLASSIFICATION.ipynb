{
 "cells": [
  {
   "cell_type": "markdown",
   "metadata": {},
   "source": [
    "# CLASSIFICATION USING ANN AND SVM"
   ]
  },
  {
   "cell_type": "code",
   "execution_count": 70,
   "metadata": {},
   "outputs": [],
   "source": [
    "import numpy as np\n",
    "import pandas as pd\n",
    "\n",
    "import matplotlib.pyplot as plt"
   ]
  },
  {
   "cell_type": "code",
   "execution_count": 71,
   "metadata": {
    "colab": {},
    "colab_type": "code",
    "id": "rvPXb5V5jPN-"
   },
   "outputs": [
    {
     "data": {
      "text/html": [
       "<div>\n",
       "<style scoped>\n",
       "    .dataframe tbody tr th:only-of-type {\n",
       "        vertical-align: middle;\n",
       "    }\n",
       "\n",
       "    .dataframe tbody tr th {\n",
       "        vertical-align: top;\n",
       "    }\n",
       "\n",
       "    .dataframe thead th {\n",
       "        text-align: right;\n",
       "    }\n",
       "</style>\n",
       "<table border=\"1\" class=\"dataframe\">\n",
       "  <thead>\n",
       "    <tr style=\"text-align: right;\">\n",
       "      <th></th>\n",
       "      <th>RowNumber</th>\n",
       "      <th>CustomerId</th>\n",
       "      <th>Surname</th>\n",
       "      <th>CreditScore</th>\n",
       "      <th>Geography</th>\n",
       "      <th>Gender</th>\n",
       "      <th>Age</th>\n",
       "      <th>Tenure</th>\n",
       "      <th>Balance</th>\n",
       "      <th>NumOfProducts</th>\n",
       "      <th>HasCrCard</th>\n",
       "      <th>IsActiveMember</th>\n",
       "      <th>EstimatedSalary</th>\n",
       "      <th>Exited</th>\n",
       "    </tr>\n",
       "  </thead>\n",
       "  <tbody>\n",
       "    <tr>\n",
       "      <th>0</th>\n",
       "      <td>1</td>\n",
       "      <td>15634602</td>\n",
       "      <td>Hargrave</td>\n",
       "      <td>619</td>\n",
       "      <td>France</td>\n",
       "      <td>Female</td>\n",
       "      <td>42</td>\n",
       "      <td>2</td>\n",
       "      <td>0.00</td>\n",
       "      <td>1</td>\n",
       "      <td>1</td>\n",
       "      <td>1</td>\n",
       "      <td>101348.88</td>\n",
       "      <td>1</td>\n",
       "    </tr>\n",
       "    <tr>\n",
       "      <th>1</th>\n",
       "      <td>2</td>\n",
       "      <td>15647311</td>\n",
       "      <td>Hill</td>\n",
       "      <td>608</td>\n",
       "      <td>Spain</td>\n",
       "      <td>Female</td>\n",
       "      <td>41</td>\n",
       "      <td>1</td>\n",
       "      <td>83807.86</td>\n",
       "      <td>1</td>\n",
       "      <td>0</td>\n",
       "      <td>1</td>\n",
       "      <td>112542.58</td>\n",
       "      <td>0</td>\n",
       "    </tr>\n",
       "    <tr>\n",
       "      <th>2</th>\n",
       "      <td>3</td>\n",
       "      <td>15619304</td>\n",
       "      <td>Onio</td>\n",
       "      <td>502</td>\n",
       "      <td>France</td>\n",
       "      <td>Female</td>\n",
       "      <td>42</td>\n",
       "      <td>8</td>\n",
       "      <td>159660.80</td>\n",
       "      <td>3</td>\n",
       "      <td>1</td>\n",
       "      <td>0</td>\n",
       "      <td>113931.57</td>\n",
       "      <td>1</td>\n",
       "    </tr>\n",
       "    <tr>\n",
       "      <th>3</th>\n",
       "      <td>4</td>\n",
       "      <td>15701354</td>\n",
       "      <td>Boni</td>\n",
       "      <td>699</td>\n",
       "      <td>France</td>\n",
       "      <td>Female</td>\n",
       "      <td>39</td>\n",
       "      <td>1</td>\n",
       "      <td>0.00</td>\n",
       "      <td>2</td>\n",
       "      <td>0</td>\n",
       "      <td>0</td>\n",
       "      <td>93826.63</td>\n",
       "      <td>0</td>\n",
       "    </tr>\n",
       "  </tbody>\n",
       "</table>\n",
       "</div>"
      ],
      "text/plain": [
       "   RowNumber  CustomerId   Surname  CreditScore Geography  Gender  Age  \\\n",
       "0          1    15634602  Hargrave          619    France  Female   42   \n",
       "1          2    15647311      Hill          608     Spain  Female   41   \n",
       "2          3    15619304      Onio          502    France  Female   42   \n",
       "3          4    15701354      Boni          699    France  Female   39   \n",
       "\n",
       "   Tenure    Balance  NumOfProducts  HasCrCard  IsActiveMember  \\\n",
       "0       2       0.00              1          1               1   \n",
       "1       1   83807.86              1          0               1   \n",
       "2       8  159660.80              3          1               0   \n",
       "3       1       0.00              2          0               0   \n",
       "\n",
       "   EstimatedSalary  Exited  \n",
       "0        101348.88       1  \n",
       "1        112542.58       0  \n",
       "2        113931.57       1  \n",
       "3         93826.63       0  "
      ]
     },
     "execution_count": 71,
     "metadata": {},
     "output_type": "execute_result"
    }
   ],
   "source": [
    "data = pd.read_csv('Churn_Dataset.csv')\n",
    "\n",
    "data.head(4)"
   ]
  },
  {
   "cell_type": "code",
   "execution_count": 72,
   "metadata": {
    "colab": {},
    "colab_type": "code",
    "id": "TinF8sdf9atQ"
   },
   "outputs": [
    {
     "name": "stdout",
     "output_type": "stream",
     "text": [
      "<class 'pandas.core.frame.DataFrame'>\n",
      "RangeIndex: 10000 entries, 0 to 9999\n",
      "Data columns (total 14 columns):\n",
      " #   Column           Non-Null Count  Dtype  \n",
      "---  ------           --------------  -----  \n",
      " 0   RowNumber        10000 non-null  int64  \n",
      " 1   CustomerId       10000 non-null  int64  \n",
      " 2   Surname          10000 non-null  object \n",
      " 3   CreditScore      10000 non-null  int64  \n",
      " 4   Geography        10000 non-null  object \n",
      " 5   Gender           10000 non-null  object \n",
      " 6   Age              10000 non-null  int64  \n",
      " 7   Tenure           10000 non-null  int64  \n",
      " 8   Balance          10000 non-null  float64\n",
      " 9   NumOfProducts    10000 non-null  int64  \n",
      " 10  HasCrCard        10000 non-null  int64  \n",
      " 11  IsActiveMember   10000 non-null  int64  \n",
      " 12  EstimatedSalary  10000 non-null  float64\n",
      " 13  Exited           10000 non-null  int64  \n",
      "dtypes: float64(2), int64(9), object(3)\n",
      "memory usage: 1.1+ MB\n"
     ]
    }
   ],
   "source": [
    "data.info()"
   ]
  },
  {
   "cell_type": "code",
   "execution_count": 73,
   "metadata": {
    "colab": {},
    "colab_type": "code",
    "id": "fX7PPpba973B"
   },
   "outputs": [
    {
     "data": {
      "text/html": [
       "<div>\n",
       "<style scoped>\n",
       "    .dataframe tbody tr th:only-of-type {\n",
       "        vertical-align: middle;\n",
       "    }\n",
       "\n",
       "    .dataframe tbody tr th {\n",
       "        vertical-align: top;\n",
       "    }\n",
       "\n",
       "    .dataframe thead th {\n",
       "        text-align: right;\n",
       "    }\n",
       "</style>\n",
       "<table border=\"1\" class=\"dataframe\">\n",
       "  <thead>\n",
       "    <tr style=\"text-align: right;\">\n",
       "      <th></th>\n",
       "      <th>RowNumber</th>\n",
       "      <th>CustomerId</th>\n",
       "      <th>CreditScore</th>\n",
       "      <th>Age</th>\n",
       "      <th>Tenure</th>\n",
       "      <th>Balance</th>\n",
       "      <th>NumOfProducts</th>\n",
       "      <th>HasCrCard</th>\n",
       "      <th>IsActiveMember</th>\n",
       "      <th>EstimatedSalary</th>\n",
       "      <th>Exited</th>\n",
       "    </tr>\n",
       "  </thead>\n",
       "  <tbody>\n",
       "    <tr>\n",
       "      <th>count</th>\n",
       "      <td>10000.00000</td>\n",
       "      <td>1.000000e+04</td>\n",
       "      <td>10000.000000</td>\n",
       "      <td>10000.000000</td>\n",
       "      <td>10000.000000</td>\n",
       "      <td>10000.000000</td>\n",
       "      <td>10000.000000</td>\n",
       "      <td>10000.00000</td>\n",
       "      <td>10000.000000</td>\n",
       "      <td>10000.000000</td>\n",
       "      <td>10000.000000</td>\n",
       "    </tr>\n",
       "    <tr>\n",
       "      <th>mean</th>\n",
       "      <td>5000.50000</td>\n",
       "      <td>1.569094e+07</td>\n",
       "      <td>650.528800</td>\n",
       "      <td>38.921800</td>\n",
       "      <td>5.012800</td>\n",
       "      <td>76485.889288</td>\n",
       "      <td>1.530200</td>\n",
       "      <td>0.70550</td>\n",
       "      <td>0.515100</td>\n",
       "      <td>100090.239881</td>\n",
       "      <td>0.203700</td>\n",
       "    </tr>\n",
       "    <tr>\n",
       "      <th>std</th>\n",
       "      <td>2886.89568</td>\n",
       "      <td>7.193619e+04</td>\n",
       "      <td>96.653299</td>\n",
       "      <td>10.487806</td>\n",
       "      <td>2.892174</td>\n",
       "      <td>62397.405202</td>\n",
       "      <td>0.581654</td>\n",
       "      <td>0.45584</td>\n",
       "      <td>0.499797</td>\n",
       "      <td>57510.492818</td>\n",
       "      <td>0.402769</td>\n",
       "    </tr>\n",
       "    <tr>\n",
       "      <th>min</th>\n",
       "      <td>1.00000</td>\n",
       "      <td>1.556570e+07</td>\n",
       "      <td>350.000000</td>\n",
       "      <td>18.000000</td>\n",
       "      <td>0.000000</td>\n",
       "      <td>0.000000</td>\n",
       "      <td>1.000000</td>\n",
       "      <td>0.00000</td>\n",
       "      <td>0.000000</td>\n",
       "      <td>11.580000</td>\n",
       "      <td>0.000000</td>\n",
       "    </tr>\n",
       "    <tr>\n",
       "      <th>25%</th>\n",
       "      <td>2500.75000</td>\n",
       "      <td>1.562853e+07</td>\n",
       "      <td>584.000000</td>\n",
       "      <td>32.000000</td>\n",
       "      <td>3.000000</td>\n",
       "      <td>0.000000</td>\n",
       "      <td>1.000000</td>\n",
       "      <td>0.00000</td>\n",
       "      <td>0.000000</td>\n",
       "      <td>51002.110000</td>\n",
       "      <td>0.000000</td>\n",
       "    </tr>\n",
       "    <tr>\n",
       "      <th>50%</th>\n",
       "      <td>5000.50000</td>\n",
       "      <td>1.569074e+07</td>\n",
       "      <td>652.000000</td>\n",
       "      <td>37.000000</td>\n",
       "      <td>5.000000</td>\n",
       "      <td>97198.540000</td>\n",
       "      <td>1.000000</td>\n",
       "      <td>1.00000</td>\n",
       "      <td>1.000000</td>\n",
       "      <td>100193.915000</td>\n",
       "      <td>0.000000</td>\n",
       "    </tr>\n",
       "    <tr>\n",
       "      <th>75%</th>\n",
       "      <td>7500.25000</td>\n",
       "      <td>1.575323e+07</td>\n",
       "      <td>718.000000</td>\n",
       "      <td>44.000000</td>\n",
       "      <td>7.000000</td>\n",
       "      <td>127644.240000</td>\n",
       "      <td>2.000000</td>\n",
       "      <td>1.00000</td>\n",
       "      <td>1.000000</td>\n",
       "      <td>149388.247500</td>\n",
       "      <td>0.000000</td>\n",
       "    </tr>\n",
       "    <tr>\n",
       "      <th>max</th>\n",
       "      <td>10000.00000</td>\n",
       "      <td>1.581569e+07</td>\n",
       "      <td>850.000000</td>\n",
       "      <td>92.000000</td>\n",
       "      <td>10.000000</td>\n",
       "      <td>250898.090000</td>\n",
       "      <td>4.000000</td>\n",
       "      <td>1.00000</td>\n",
       "      <td>1.000000</td>\n",
       "      <td>199992.480000</td>\n",
       "      <td>1.000000</td>\n",
       "    </tr>\n",
       "  </tbody>\n",
       "</table>\n",
       "</div>"
      ],
      "text/plain": [
       "         RowNumber    CustomerId   CreditScore           Age        Tenure  \\\n",
       "count  10000.00000  1.000000e+04  10000.000000  10000.000000  10000.000000   \n",
       "mean    5000.50000  1.569094e+07    650.528800     38.921800      5.012800   \n",
       "std     2886.89568  7.193619e+04     96.653299     10.487806      2.892174   \n",
       "min        1.00000  1.556570e+07    350.000000     18.000000      0.000000   \n",
       "25%     2500.75000  1.562853e+07    584.000000     32.000000      3.000000   \n",
       "50%     5000.50000  1.569074e+07    652.000000     37.000000      5.000000   \n",
       "75%     7500.25000  1.575323e+07    718.000000     44.000000      7.000000   \n",
       "max    10000.00000  1.581569e+07    850.000000     92.000000     10.000000   \n",
       "\n",
       "             Balance  NumOfProducts    HasCrCard  IsActiveMember  \\\n",
       "count   10000.000000   10000.000000  10000.00000    10000.000000   \n",
       "mean    76485.889288       1.530200      0.70550        0.515100   \n",
       "std     62397.405202       0.581654      0.45584        0.499797   \n",
       "min         0.000000       1.000000      0.00000        0.000000   \n",
       "25%         0.000000       1.000000      0.00000        0.000000   \n",
       "50%     97198.540000       1.000000      1.00000        1.000000   \n",
       "75%    127644.240000       2.000000      1.00000        1.000000   \n",
       "max    250898.090000       4.000000      1.00000        1.000000   \n",
       "\n",
       "       EstimatedSalary        Exited  \n",
       "count     10000.000000  10000.000000  \n",
       "mean     100090.239881      0.203700  \n",
       "std       57510.492818      0.402769  \n",
       "min          11.580000      0.000000  \n",
       "25%       51002.110000      0.000000  \n",
       "50%      100193.915000      0.000000  \n",
       "75%      149388.247500      0.000000  \n",
       "max      199992.480000      1.000000  "
      ]
     },
     "execution_count": 73,
     "metadata": {},
     "output_type": "execute_result"
    }
   ],
   "source": [
    "data.describe()"
   ]
  },
  {
   "cell_type": "code",
   "execution_count": 74,
   "metadata": {
    "colab": {},
    "colab_type": "code",
    "id": "DKnxi2l3jzWs"
   },
   "outputs": [
    {
     "data": {
      "text/plain": [
       "RowNumber          0\n",
       "CustomerId         0\n",
       "Surname            0\n",
       "CreditScore        0\n",
       "Geography          0\n",
       "Gender             0\n",
       "Age                0\n",
       "Tenure             0\n",
       "Balance            0\n",
       "NumOfProducts      0\n",
       "HasCrCard          0\n",
       "IsActiveMember     0\n",
       "EstimatedSalary    0\n",
       "Exited             0\n",
       "dtype: int64"
      ]
     },
     "execution_count": 74,
     "metadata": {},
     "output_type": "execute_result"
    }
   ],
   "source": [
    "# Checking if our dataset contains any NULL values\n",
    "\n",
    "data.isnull().sum()"
   ]
  },
  {
   "cell_type": "markdown",
   "metadata": {},
   "source": [
    "# DATA PREPROCESSING"
   ]
  },
  {
   "cell_type": "code",
   "execution_count": 75,
   "metadata": {
    "colab": {},
    "colab_type": "code",
    "id": "wce3Hm9XU3XT"
   },
   "outputs": [],
   "source": [
    "# Removing the unnecassary features from the dataset\n",
    "\n",
    "data = data.drop('Surname', axis=1)\n",
    "data = data.drop('RowNumber', axis=1)\n",
    "data = data.drop('CustomerId', axis=1)\n",
    "\n"
   ]
  },
  {
   "cell_type": "code",
   "execution_count": 76,
   "metadata": {},
   "outputs": [
    {
     "data": {
      "text/plain": [
       "(   CreditScore Geography  Gender  Age  Tenure    Balance  NumOfProducts  \\\n",
       " 0          619    France  Female   42       2       0.00              1   \n",
       " 1          608     Spain  Female   41       1   83807.86              1   \n",
       " 2          502    France  Female   42       8  159660.80              3   \n",
       " 3          699    France  Female   39       1       0.00              2   \n",
       " 4          850     Spain  Female   43       2  125510.82              1   \n",
       " \n",
       "    HasCrCard  IsActiveMember  EstimatedSalary  \n",
       " 0          1               1        101348.88  \n",
       " 1          0               1        112542.58  \n",
       " 2          1               0        113931.57  \n",
       " 3          0               0         93826.63  \n",
       " 4          1               1         79084.10  ,\n",
       " 0    1\n",
       " 1    0\n",
       " 2    1\n",
       " 3    0\n",
       " 4    0\n",
       " Name: Exited, dtype: int64)"
      ]
     },
     "execution_count": 76,
     "metadata": {},
     "output_type": "execute_result"
    }
   ],
   "source": [
    "# splitting the dataset into x(independent variables) and y(dependent variables)\n",
    "\n",
    "# Independent variables\n",
    "X = data.drop('Exited', axis=1)\n",
    "\n",
    "# Dependent variable\n",
    "y = data['Exited']\n",
    "\n",
    "X.head(), y.head()"
   ]
  },
  {
   "cell_type": "code",
   "execution_count": 77,
   "metadata": {},
   "outputs": [
    {
     "data": {
      "text/plain": [
       "\"\\nfrom sklearn.preprocessing import OneHotEncoder\\n\\n# Assuming 'Geography' and 'Gender' are the only categorical variables that need to be one-hot encoded\\n\\n# Create the OneHotEncoder object\\nencoder = OneHotEncoder(sparse=False, drop='first')  # drop='first' to avoid dummy variable trap\\n\\n# Select the categorical data for transformation\\ncategorical_data = X[['Geography', 'Gender']]\\n\\n# Fit and transform the categorical data\\ncategorical_data_encoded = encoder.fit_transform(categorical_data)\\n\\n# Create a DataFrame with the encoded variables\\n# Generate column names for the one-hot encoded variables\\ncategories = encoder.categories_\\ncategorical_columns = [f'{col}_{cat}' for col, cats in zip(['Geography', 'Gender'], categories) for cat in cats[1:]]\\n\\nencoded_df = pd.DataFrame(categorical_data_encoded, columns=categorical_columns)\\n\\n# Concatenate the encoded df with the original X and drop the original categorical columns\\nX_encoded = pd.concat([X.drop(['Geography', 'Gender'], axis=1), encoded_df], axis=1)\\n\\nX_encoded.head()\\n\""
      ]
     },
     "execution_count": 77,
     "metadata": {},
     "output_type": "execute_result"
    }
   ],
   "source": [
    "# Encoding Categorical variables into numerical variables\n",
    "# One Hot Encoding\n",
    "\"\"\"\n",
    "from sklearn.preprocessing import OneHotEncoder\n",
    "\n",
    "# Assuming 'Geography' and 'Gender' are the only categorical variables that need to be one-hot encoded\n",
    "\n",
    "# Create the OneHotEncoder object\n",
    "encoder = OneHotEncoder(sparse=False, drop='first')  # drop='first' to avoid dummy variable trap\n",
    "\n",
    "# Select the categorical data for transformation\n",
    "categorical_data = X[['Geography', 'Gender']]\n",
    "\n",
    "# Fit and transform the categorical data\n",
    "categorical_data_encoded = encoder.fit_transform(categorical_data)\n",
    "\n",
    "# Create a DataFrame with the encoded variables\n",
    "# Generate column names for the one-hot encoded variables\n",
    "categories = encoder.categories_\n",
    "categorical_columns = [f'{col}_{cat}' for col, cats in zip(['Geography', 'Gender'], categories) for cat in cats[1:]]\n",
    "\n",
    "encoded_df = pd.DataFrame(categorical_data_encoded, columns=categorical_columns)\n",
    "\n",
    "# Concatenate the encoded df with the original X and drop the original categorical columns\n",
    "X_encoded = pd.concat([X.drop(['Geography', 'Gender'], axis=1), encoded_df], axis=1)\n",
    "\n",
    "X_encoded.head()\n",
    "\"\"\"\n"
   ]
  },
  {
   "cell_type": "code",
   "execution_count": 78,
   "metadata": {},
   "outputs": [
    {
     "name": "stdout",
     "output_type": "stream",
     "text": [
      "      CreditScore  Age  Tenure    Balance  NumOfProducts  HasCrCard  \\\n",
      "0             619   42       2       0.00              1          1   \n",
      "1             608   41       1   83807.86              1          0   \n",
      "2             502   42       8  159660.80              3          1   \n",
      "3             699   39       1       0.00              2          0   \n",
      "4             850   43       2  125510.82              1          1   \n",
      "...           ...  ...     ...        ...            ...        ...   \n",
      "9995          771   39       5       0.00              2          1   \n",
      "9996          516   35      10   57369.61              1          1   \n",
      "9997          709   36       7       0.00              1          0   \n",
      "9998          772   42       3   75075.31              2          1   \n",
      "9999          792   28       4  130142.79              1          1   \n",
      "\n",
      "      IsActiveMember  EstimatedSalary  Gender_Female  Gender_Male  \\\n",
      "0                  1        101348.88           True        False   \n",
      "1                  1        112542.58           True        False   \n",
      "2                  0        113931.57           True        False   \n",
      "3                  0         93826.63           True        False   \n",
      "4                  1         79084.10           True        False   \n",
      "...              ...              ...            ...          ...   \n",
      "9995               0         96270.64          False         True   \n",
      "9996               1        101699.77          False         True   \n",
      "9997               1         42085.58           True        False   \n",
      "9998               0         92888.52          False         True   \n",
      "9999               0         38190.78           True        False   \n",
      "\n",
      "      Geography_France  Geography_Germany  Geography_Spain  \n",
      "0                 True              False            False  \n",
      "1                False              False             True  \n",
      "2                 True              False            False  \n",
      "3                 True              False            False  \n",
      "4                False              False             True  \n",
      "...                ...                ...              ...  \n",
      "9995              True              False            False  \n",
      "9996              True              False            False  \n",
      "9997              True              False            False  \n",
      "9998             False               True            False  \n",
      "9999              True              False            False  \n",
      "\n",
      "[10000 rows x 13 columns]\n"
     ]
    }
   ],
   "source": [
    "#split\n",
    "X_encoded=pd.get_dummies(X, columns=[\"Gender\", \"Geography\"])\n",
    "print(X_encoded)"
   ]
  },
  {
   "cell_type": "code",
   "execution_count": 79,
   "metadata": {
    "colab": {},
    "colab_type": "code",
    "id": "9RqmZSGX5TcE"
   },
   "outputs": [
    {
     "data": {
      "text/plain": [
       "((8000, 13), (2000, 13), (8000,), (2000,))"
      ]
     },
     "execution_count": 79,
     "metadata": {},
     "output_type": "execute_result"
    }
   ],
   "source": [
    "# splitting the data into training and testing set\n",
    "\n",
    "from sklearn.model_selection import train_test_split\n",
    "\n",
    "# Split the data into training and testing sets\n",
    "x_train, x_test, y_train, y_test = train_test_split(X_encoded, y, test_size=0.2, random_state=42)\n",
    "\n",
    "# Output the shapes of the resulting data splits\n",
    "x_train.shape, x_test.shape, y_train.shape, y_test.shape\n"
   ]
  },
  {
   "cell_type": "code",
   "execution_count": 80,
   "metadata": {
    "colab": {},
    "colab_type": "code",
    "id": "HMz6rg-_bTzq"
   },
   "outputs": [],
   "source": [
    "# Feature Scaling \n",
    "# Only on Independent Variable to convert them into values ranging from -1 to +1\n",
    "\n",
    "from sklearn.preprocessing import StandardScaler\n",
    "from sklearn.preprocessing import MinMaxScaler\n",
    "\"\"\"\n",
    "# Create a StandardScaler object\n",
    "sc = StandardScaler()\n",
    "\n",
    "# Fit the scaler to the training data and transform both the training and testing independent variables\n",
    "X_train_scaled = sc.fit_transform(x_train)\n",
    "X_test_scaled = sc.transform(x_test)\n",
    "\n",
    "# The scaling is only applied to the independent variables to avoid information leakage\n",
    "# from the dependent variable 'y'\n",
    "\n",
    "# Display the first few entries of the scaled training data\n",
    "X_train_scaled[:4]\n",
    "\"\"\"\n",
    "\n",
    "sc = MinMaxScaler(feature_range=(-1, 1))\n",
    "x_train = sc.fit_transform(x_train)\n",
    "x_test = sc.fit_transform(x_test)"
   ]
  },
  {
   "cell_type": "markdown",
   "metadata": {},
   "source": [
    "# LOGISTIC REGRESSION"
   ]
  },
  {
   "cell_type": "code",
   "execution_count": 81,
   "metadata": {},
   "outputs": [
    {
     "name": "stdout",
     "output_type": "stream",
     "text": [
      "Training Accuracy : 0.81125\n",
      "Testing Accuracy : 0.81\n",
      "[[1537   70]\n",
      " [ 310   83]]\n"
     ]
    }
   ],
   "source": [
    "from sklearn.linear_model import LogisticRegression\n",
    "from sklearn.metrics import confusion_matrix\n",
    "\n",
    "model = LogisticRegression()\n",
    "model.fit(x_train, y_train)\n",
    "\n",
    "y_pred = model.predict(x_test)\n",
    "\n",
    "print(\"Training Accuracy :\", model.score(x_train, y_train))\n",
    "print(\"Testing Accuracy :\", model.score(x_test, y_test))\n",
    "\n",
    "cm = confusion_matrix(y_test, y_pred)\n",
    "print(cm)"
   ]
  },
  {
   "cell_type": "markdown",
   "metadata": {},
   "source": [
    "# SUPPORT  VECTOR MACHINE"
   ]
  },
  {
   "cell_type": "code",
   "execution_count": 82,
   "metadata": {},
   "outputs": [
    {
     "name": "stdout",
     "output_type": "stream",
     "text": [
      "Training Accuracy : 0.837875\n",
      "Testing Accuracy : 0.841\n",
      "[[1591   16]\n",
      " [ 302   91]]\n"
     ]
    }
   ],
   "source": [
    "from sklearn.svm import SVC\n",
    "from sklearn.metrics import confusion_matrix\n",
    "\n",
    "model = SVC()\n",
    "model.fit(x_train, y_train)\n",
    "\n",
    "y_pred = model.predict(x_test)\n",
    "\n",
    "print(\"Training Accuracy :\", model.score(x_train, y_train))\n",
    "print(\"Testing Accuracy :\", model.score(x_test, y_test))\n",
    "\n",
    "cm = confusion_matrix(y_test, y_pred)\n",
    "print(cm)"
   ]
  },
  {
   "cell_type": "code",
   "execution_count": 83,
   "metadata": {},
   "outputs": [
    {
     "name": "stdout",
     "output_type": "stream",
     "text": [
      "[0.835   0.8375  0.8275  0.8175  0.8425  0.82    0.845   0.82875 0.84125\n",
      " 0.83625]\n"
     ]
    }
   ],
   "source": [
    "from sklearn.model_selection import cross_val_score\n",
    "\n",
    "cvs = cross_val_score(estimator = model, X = x_train, y = y_train, cv = 10)\n",
    "print(cvs)"
   ]
  },
  {
   "cell_type": "markdown",
   "metadata": {},
   "source": [
    "# MULTILAYER ANN"
   ]
  },
  {
   "cell_type": "code",
   "execution_count": 84,
   "metadata": {},
   "outputs": [],
   "source": [
    "from tensorflow.keras.models import Sequential\n",
    "from tensorflow.keras.layers import Dense\n",
    "\n",
    "#Initialising ANN\n",
    "input_shape = x_train.shape[1:]\n",
    "\n",
    "# define the keras model\n",
    "model = Sequential()\n",
    "model.add(Dense(6, input_shape=(input_shape), activation='relu'))\n",
    "model.add(Dense(6, activation='relu'))\n",
    "model.add(Dense(1, activation='sigmoid'))"
   ]
  },
  {
   "cell_type": "code",
   "execution_count": 85,
   "metadata": {},
   "outputs": [
    {
     "name": "stdout",
     "output_type": "stream",
     "text": [
      "Epoch 1/50\n",
      "800/800 [==============================] - 3s 2ms/step - loss: 0.4979 - accuracy: 0.7914 - val_loss: 0.4589 - val_accuracy: 0.8040\n",
      "Epoch 2/50\n",
      "800/800 [==============================] - 2s 2ms/step - loss: 0.4668 - accuracy: 0.7947 - val_loss: 0.4422 - val_accuracy: 0.8040\n",
      "Epoch 3/50\n",
      "800/800 [==============================] - 2s 2ms/step - loss: 0.4534 - accuracy: 0.7961 - val_loss: 0.4282 - val_accuracy: 0.8045\n",
      "Epoch 4/50\n",
      "800/800 [==============================] - 2s 3ms/step - loss: 0.4428 - accuracy: 0.7994 - val_loss: 0.4179 - val_accuracy: 0.8080\n",
      "Epoch 5/50\n",
      "800/800 [==============================] - 2s 2ms/step - loss: 0.4338 - accuracy: 0.8060 - val_loss: 0.4100 - val_accuracy: 0.8115\n",
      "Epoch 6/50\n",
      "800/800 [==============================] - 2s 2ms/step - loss: 0.4272 - accuracy: 0.8106 - val_loss: 0.4072 - val_accuracy: 0.8155\n",
      "Epoch 7/50\n",
      "800/800 [==============================] - 2s 2ms/step - loss: 0.4221 - accuracy: 0.8148 - val_loss: 0.4002 - val_accuracy: 0.8235\n",
      "Epoch 8/50\n",
      "800/800 [==============================] - 2s 2ms/step - loss: 0.4173 - accuracy: 0.8199 - val_loss: 0.3959 - val_accuracy: 0.8265\n",
      "Epoch 9/50\n",
      "800/800 [==============================] - 2s 2ms/step - loss: 0.4127 - accuracy: 0.8242 - val_loss: 0.3927 - val_accuracy: 0.8315\n",
      "Epoch 10/50\n",
      "800/800 [==============================] - 2s 2ms/step - loss: 0.4084 - accuracy: 0.8269 - val_loss: 0.3901 - val_accuracy: 0.8330\n",
      "Epoch 11/50\n",
      "800/800 [==============================] - 2s 2ms/step - loss: 0.4039 - accuracy: 0.8301 - val_loss: 0.3872 - val_accuracy: 0.8350\n",
      "Epoch 12/50\n",
      "800/800 [==============================] - 2s 3ms/step - loss: 0.4006 - accuracy: 0.8307 - val_loss: 0.3846 - val_accuracy: 0.8365\n",
      "Epoch 13/50\n",
      "800/800 [==============================] - 2s 2ms/step - loss: 0.3968 - accuracy: 0.8309 - val_loss: 0.3818 - val_accuracy: 0.8365\n",
      "Epoch 14/50\n",
      "800/800 [==============================] - 2s 2ms/step - loss: 0.3945 - accuracy: 0.8319 - val_loss: 0.3813 - val_accuracy: 0.8375\n",
      "Epoch 15/50\n",
      "800/800 [==============================] - 10s 13ms/step - loss: 0.3918 - accuracy: 0.8339 - val_loss: 0.3767 - val_accuracy: 0.8315\n",
      "Epoch 16/50\n",
      "800/800 [==============================] - 2s 2ms/step - loss: 0.3885 - accuracy: 0.8345 - val_loss: 0.3771 - val_accuracy: 0.8320\n",
      "Epoch 17/50\n",
      "800/800 [==============================] - 2s 2ms/step - loss: 0.3866 - accuracy: 0.8341 - val_loss: 0.3736 - val_accuracy: 0.8375\n",
      "Epoch 18/50\n",
      "800/800 [==============================] - 2s 2ms/step - loss: 0.3846 - accuracy: 0.8372 - val_loss: 0.3726 - val_accuracy: 0.8385\n",
      "Epoch 19/50\n",
      "800/800 [==============================] - 2s 2ms/step - loss: 0.3829 - accuracy: 0.8356 - val_loss: 0.3717 - val_accuracy: 0.8400\n",
      "Epoch 20/50\n",
      "800/800 [==============================] - 2s 2ms/step - loss: 0.3818 - accuracy: 0.8353 - val_loss: 0.3709 - val_accuracy: 0.8420\n",
      "Epoch 21/50\n",
      "800/800 [==============================] - 2s 2ms/step - loss: 0.3805 - accuracy: 0.8363 - val_loss: 0.3705 - val_accuracy: 0.8410\n",
      "Epoch 22/50\n",
      "800/800 [==============================] - 2s 2ms/step - loss: 0.3796 - accuracy: 0.8378 - val_loss: 0.3687 - val_accuracy: 0.8420\n",
      "Epoch 23/50\n",
      "800/800 [==============================] - 2s 2ms/step - loss: 0.3794 - accuracy: 0.8386 - val_loss: 0.3689 - val_accuracy: 0.8400\n",
      "Epoch 24/50\n",
      "800/800 [==============================] - 2s 2ms/step - loss: 0.3773 - accuracy: 0.8385 - val_loss: 0.3695 - val_accuracy: 0.8465\n",
      "Epoch 25/50\n",
      "800/800 [==============================] - 11s 13ms/step - loss: 0.3770 - accuracy: 0.8385 - val_loss: 0.3670 - val_accuracy: 0.8410\n",
      "Epoch 26/50\n",
      "800/800 [==============================] - 2s 3ms/step - loss: 0.3768 - accuracy: 0.8376 - val_loss: 0.3663 - val_accuracy: 0.8435\n",
      "Epoch 27/50\n",
      "800/800 [==============================] - 2s 2ms/step - loss: 0.3755 - accuracy: 0.8391 - val_loss: 0.3680 - val_accuracy: 0.8420\n",
      "Epoch 28/50\n",
      "800/800 [==============================] - 2s 2ms/step - loss: 0.3746 - accuracy: 0.8401 - val_loss: 0.3683 - val_accuracy: 0.8450\n",
      "Epoch 29/50\n",
      "800/800 [==============================] - 2s 3ms/step - loss: 0.3729 - accuracy: 0.8407 - val_loss: 0.3690 - val_accuracy: 0.8445\n",
      "Epoch 30/50\n",
      "800/800 [==============================] - 2s 2ms/step - loss: 0.3721 - accuracy: 0.8384 - val_loss: 0.3662 - val_accuracy: 0.8390\n",
      "Epoch 31/50\n",
      "800/800 [==============================] - 2s 2ms/step - loss: 0.3712 - accuracy: 0.8391 - val_loss: 0.3633 - val_accuracy: 0.8465\n",
      "Epoch 32/50\n",
      "800/800 [==============================] - 2s 2ms/step - loss: 0.3709 - accuracy: 0.8400 - val_loss: 0.3616 - val_accuracy: 0.8440\n",
      "Epoch 33/50\n",
      "800/800 [==============================] - 11s 13ms/step - loss: 0.3679 - accuracy: 0.8407 - val_loss: 0.3666 - val_accuracy: 0.8425\n",
      "Epoch 34/50\n",
      "800/800 [==============================] - 2s 3ms/step - loss: 0.3661 - accuracy: 0.8388 - val_loss: 0.3591 - val_accuracy: 0.8455\n",
      "Epoch 35/50\n",
      "800/800 [==============================] - 2s 2ms/step - loss: 0.3637 - accuracy: 0.8445 - val_loss: 0.3579 - val_accuracy: 0.8475\n",
      "Epoch 36/50\n",
      "800/800 [==============================] - 2s 2ms/step - loss: 0.3621 - accuracy: 0.8462 - val_loss: 0.3554 - val_accuracy: 0.8505\n",
      "Epoch 37/50\n",
      "800/800 [==============================] - 2s 2ms/step - loss: 0.3590 - accuracy: 0.8484 - val_loss: 0.3597 - val_accuracy: 0.8460\n",
      "Epoch 38/50\n",
      "800/800 [==============================] - 2s 2ms/step - loss: 0.3571 - accuracy: 0.8510 - val_loss: 0.3517 - val_accuracy: 0.8500\n",
      "Epoch 39/50\n",
      "800/800 [==============================] - 2s 2ms/step - loss: 0.3548 - accuracy: 0.8525 - val_loss: 0.3492 - val_accuracy: 0.8575\n",
      "Epoch 40/50\n",
      "800/800 [==============================] - 2s 2ms/step - loss: 0.3535 - accuracy: 0.8546 - val_loss: 0.3460 - val_accuracy: 0.8570\n",
      "Epoch 41/50\n",
      "800/800 [==============================] - 11s 13ms/step - loss: 0.3521 - accuracy: 0.8550 - val_loss: 0.3453 - val_accuracy: 0.8540\n",
      "Epoch 42/50\n",
      "800/800 [==============================] - 2s 3ms/step - loss: 0.3503 - accuracy: 0.8537 - val_loss: 0.3448 - val_accuracy: 0.8530\n",
      "Epoch 43/50\n",
      "800/800 [==============================] - 2s 2ms/step - loss: 0.3495 - accuracy: 0.8571 - val_loss: 0.3437 - val_accuracy: 0.8550\n",
      "Epoch 44/50\n",
      "800/800 [==============================] - 2s 2ms/step - loss: 0.3478 - accuracy: 0.8576 - val_loss: 0.3460 - val_accuracy: 0.8500\n",
      "Epoch 45/50\n",
      "800/800 [==============================] - 2s 2ms/step - loss: 0.3475 - accuracy: 0.8574 - val_loss: 0.3436 - val_accuracy: 0.8535\n",
      "Epoch 46/50\n",
      "800/800 [==============================] - 2s 3ms/step - loss: 0.3461 - accuracy: 0.8577 - val_loss: 0.3458 - val_accuracy: 0.8550\n",
      "Epoch 47/50\n",
      "800/800 [==============================] - 2s 2ms/step - loss: 0.3458 - accuracy: 0.8574 - val_loss: 0.3436 - val_accuracy: 0.8565\n",
      "Epoch 48/50\n",
      "800/800 [==============================] - 10s 13ms/step - loss: 0.3452 - accuracy: 0.8591 - val_loss: 0.3410 - val_accuracy: 0.8545\n",
      "Epoch 49/50\n",
      "800/800 [==============================] - 2s 2ms/step - loss: 0.3445 - accuracy: 0.8574 - val_loss: 0.3422 - val_accuracy: 0.8580\n",
      "Epoch 50/50\n",
      "800/800 [==============================] - 2s 3ms/step - loss: 0.3445 - accuracy: 0.8604 - val_loss: 0.3399 - val_accuracy: 0.8565\n"
     ]
    }
   ],
   "source": [
    "# compile the keras model\n",
    "model.compile(loss='binary_crossentropy', optimizer='adam', metrics=['accuracy'])\n",
    "\n",
    "# fit the keras model on the dataset\n",
    "history = model.fit(x_train, y_train, validation_data = (x_test,y_test), epochs=50, batch_size=10)"
   ]
  },
  {
   "cell_type": "code",
   "execution_count": 86,
   "metadata": {},
   "outputs": [
    {
     "data": {
      "image/png": "[encoded data removed]",
      "text/plain": [
       "<Figure size 640x480 with 1 Axes>"
      ]
     },
     "metadata": {},
     "output_type": "display_data"
    }
   ],
   "source": [
    "import matplotlib.pyplot as plt\n",
    "plt.plot(history.history['loss'])\n",
    "plt.plot(history.history['val_loss'])\n",
    "plt.title('Model accuracy')\n",
    "plt.ylabel('Accuracy')\n",
    "plt.xlabel('Epoch')\n",
    "plt.legend(['Train', 'Test'], loc='upper left')\n",
    "plt.show()"
   ]
  },
  {
   "cell_type": "code",
   "execution_count": 87,
   "metadata": {
    "colab": {},
    "colab_type": "code",
    "id": "WFOvRqg6GeW3"
   },
   "outputs": [
    {
     "name": "stderr",
     "output_type": "stream",
     "text": [
      "c:\\ProgramData\\anaconda3\\envs\\ml\\lib\\site-packages\\sklearn\\base.py:464: UserWarning: X does not have valid feature names, but MinMaxScaler was fitted with feature names\n",
      "  warnings.warn(\n"
     ]
    },
    {
     "name": "stdout",
     "output_type": "stream",
     "text": [
      "1/1 [==============================] - 0s 217ms/step\n",
      "[[ True]]\n"
     ]
    }
   ],
   "source": [
    "'''\n",
    "predicting if the costumer having following information will leave the bank or not ?\n",
    "\n",
    "Geography : france\n",
    "Age = 50\n",
    "Credit score = 850\n",
    "Tenure = 4\n",
    "Balance = 150000\n",
    "Number of Products = 5\n",
    "Gender = Female\n",
    "Has Credit Card = yes\n",
    "Is Active Member = yes\n",
    "Estimated Salary = 85000\n",
    "'''\n",
    "\n",
    "new_prediction = model.predict(sc.transform(np.array([[850, 50, 4, 150000, 5, 1, 1, 85000, 1, 0, 1, 0, 0]]))) \n",
    "\n",
    "new_prediction = (new_prediction > 0.5 )\n",
    "print(new_prediction)"
   ]
  },
  {
   "cell_type": "code",
   "execution_count": null,
   "metadata": {},
   "outputs": [],
   "source": []
  }
 ],
 "metadata": {
  "colab": {
   "collapsed_sections": [],
   "include_colab_link": true,
   "name": "Churn_Modelling.ipynb",
   "provenance": [],
   "version": "0.3.2"
  },
  "kernelspec": {
   "display_name": "Python 3",
   "language": "python",
   "name": "python3"
  },
  "language_info": {
   "codemirror_mode": {
    "name": "ipython",
    "version": 3
   },
   "file_extension": ".py",
   "mimetype": "text/x-python",
   "name": "python",
   "nbconvert_exporter": "python",
   "pygments_lexer": "ipython3",
   "version": "3.9.18"
  }
 },
 "nbformat": 4,
 "nbformat_minor": 1
}
